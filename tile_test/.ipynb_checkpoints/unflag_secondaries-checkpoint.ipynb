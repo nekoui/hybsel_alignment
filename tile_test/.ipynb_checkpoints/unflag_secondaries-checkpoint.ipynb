{
 "metadata": {
  "name": "",
  "signature": "sha256:fa9c2cf919d9acfe8bd5aaa949c3451eb0f80fbf5f22e9b1228adcae6f84fddc"
 },
 "nbformat": 3,
 "nbformat_minor": 0,
 "worksheets": [
  {
   "cells": [
    {
     "cell_type": "code",
     "collapsed": false,
     "input": [
      "\n",
      "filename = sys.argv[1] \n",
      "with open(filename) as f:\n",
      "    content = f.readlines()\n",
      "\n",
      "newContent = []\n",
      "for i in xrange(len(content)):\n",
      "    firstTabIndex = content[i].find('\\t')\n",
      "    secondTabIndex = content[i][firstTabIndex+1:].find('\\t')+firstTabIndex+1\n",
      "    flagArea = content[i][firstTabIndex+1:secondTabIndex]\n",
      "    if ('256' in flagArea):\n",
      "        newContent.append(content[i][0:firstTabIndex]+'\\t0'+content[i][secondTabIndex:])\n",
      "    else:\n",
      "        newContent.append(content[i])\n",
      "        \n",
      "with open(filename,'w') as w:\n",
      "    w.writelines(newContent)"
     ],
     "language": "python",
     "metadata": {},
     "outputs": [],
     "prompt_number": 87
    },
    {
     "cell_type": "code",
     "collapsed": false,
     "input": [],
     "language": "python",
     "metadata": {},
     "outputs": [],
     "prompt_number": 83
    },
    {
     "cell_type": "code",
     "collapsed": false,
     "input": [],
     "language": "python",
     "metadata": {},
     "outputs": []
    }
   ],
   "metadata": {}
  }
 ]
}